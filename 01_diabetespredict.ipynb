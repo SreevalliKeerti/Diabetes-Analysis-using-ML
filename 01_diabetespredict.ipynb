{
  "cells": [
    {
      "metadata": {
        "collapsed": true,
        "trusted": false
      },
      "cell_type": "code",
      "source": "import urllib.request\nimport json\n\ndata = {\n        \"Inputs\": {\n                \"input1\":\n                [\n                    {\n                            'Number of times pregnant': \"6\",   \n                            'Plasma glucose concentration a 2 hours in an oral glucose tolerance test': \"148\",   \n                            'Diastolic blood pressure (mm Hg)': \"72\",   \n                            'Triceps skin fold thickness (mm)': \"35\",   \n                            '2-Hour serum insulin (mu U/ml)': \"0\",   \n                            'Body mass index (weight in kg/(height in m)^2)': \"33.6\",   \n                            'Diabetes pedigree function': \"0.627\",   \n                            'Age (years)': \"50\",   \n                            'Class variable (0 or 1)': \"1\",   \n                    }\n                ],\n        },\n    \"GlobalParameters\":  {\n    }\n}\n\nbody = str.encode(json.dumps(data))\n\nurl = 'https://ussouthcentral.services.azureml.net/workspaces/e6d4ec188a264fff9648b3885eed9017/services/effb874576d04c7a9486b54edf66d460/execute?api-version=2.0&format=swagger'\napi_key = 'YaYJ4kXPcaQ2vIOCb2B+IWVPIxCgZRrpRvqOL5TIFNmkYGjm4DWRIwipcjlENI6XRsc0KFA+yEvniNZNm1IOEg=='\nheaders = {'Content-Type':'application/json', 'Authorization':('Bearer '+ api_key)}\n\nreq = urllib.request.Request(url, body, headers)\n\ntry:\n    response = urllib.request.urlopen(req)\n\n    result = response.read()\n    print(result)\nexcept urllib.error.HTTPError as error:\n    print(\"The request failed with status code: \" + str(error.code))\n\n    # Print the headers - they include the requert ID and the timestamp, which are useful for debugging the failure\n    print(error.info())\n    print(json.loads(error.read().decode(\"utf8\", 'ignore')))",
      "execution_count": null,
      "outputs": []
    }
  ],
  "metadata": {
    "kernelspec": {
      "name": "python36",
      "display_name": "Python 3.6",
      "language": "python"
    },
    "language_info": {
      "mimetype": "text/x-python",
      "nbconvert_exporter": "python",
      "name": "python",
      "pygments_lexer": "ipython3",
      "version": "3.6.6",
      "file_extension": ".py",
      "codemirror_mode": {
        "version": 3,
        "name": "ipython"
      }
    }
  },
  "nbformat": 4,
  "nbformat_minor": 2
}